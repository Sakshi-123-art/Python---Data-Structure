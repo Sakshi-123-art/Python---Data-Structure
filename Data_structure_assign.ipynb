{
  "nbformat": 4,
  "nbformat_minor": 0,
  "metadata": {
    "colab": {
      "provenance": []
    },
    "kernelspec": {
      "name": "python3",
      "display_name": "Python 3"
    },
    "language_info": {
      "name": "python"
    }
  },
  "cells": [
    {
      "cell_type": "markdown",
      "source": [
        "# ASSIGNMENT (2 ) **SOLUTION**"
      ],
      "metadata": {
        "id": "royNDsnlY01B"
      }
    },
    {
      "cell_type": "markdown",
      "source": [
        "# <<< Theoritical Question"
      ],
      "metadata": {
        "id": "2NvSNGvOZRUv"
      }
    },
    {
      "cell_type": "markdown",
      "source": [],
      "metadata": {
        "id": "UryIyXw-Z0PL"
      }
    },
    {
      "cell_type": "markdown",
      "source": [
        "## Q1. What are data structures, and why are they important.\n",
        "### DATA STRUCTURE -\n",
        "* Data Structure is the way of organizing and storing data so that it can be accessed and manipulated efficiently.\n",
        "\n",
        "* Data Structures are a way of organizing data so that it can be accessed more efficiently depending upon the situation. Data Structures are fundamentals of any programming language around which a program is built. Python helps to learn the fundamental of these data structures in a simpler way as compared to other programming languages.\n",
        "## types of Data Structure\n",
        "1.  List [ ]\n",
        "2.  Tuples ( )\n",
        "3.  sets { }\n",
        "4.  Dictionaries { }\n",
        "5.  Array[ ]\n",
        "6.  String \" \"\n",
        "\n",
        "##1. List [ ]-\n",
        "  you can store anything in list\n",
        "\n",
        "  list can store heterogenous data\n",
        "\n",
        "  list is an ordered collection of elements that can be of any data type\n",
        "\n",
        "  lists are mutable\n",
        "\n",
        "```\n",
        "List = [1, 2,  3, \"sakshi\", 2.3]\n",
        "print(List)                     # output : [1, 2, 3, 'sakshi', 2.3]\n",
        "\n",
        "```\n",
        "## 2.  Tuples ( ) -\n",
        "A tuple is an immutable, ordered collection of elements. Once created, the elements within a tuple cannot be changed, added, or removed.\n",
        "\n",
        "\n",
        "```\n",
        "# Creating a tuple\n",
        "my_tuple = (1, 2, 3, 4, 5)\n",
        "print(my_tuple)           # output:(1, 2, 3, 4, 5)\n",
        "```\n",
        "## 3.sets { } -\n",
        " a set is created by placing a comma-separated sequence of items in curly braces . Here are some examples of creating and using sets:\n",
        "\n",
        "* Creating a set with mixed data types: sample_set = {'Mark', 'Jessa', 25, 75.25}\n",
        "\n",
        "* Creating a set using the set constructor: book_set = set((\"Harry Potter\", \"Angels and Demons\", \"Atlas Shrugged\"))\n",
        "\n",
        "* Other ways to create sets include using curly braces or the set() function with lists, tuples, or dictionaries.\n",
        "\n",
        "```\n",
        "# set >> sets are unodered collection of unique element\n",
        "fruit = {\"Red\", \"orange\"}\n",
        "print(fruit)\n",
        "print(type(fruit)) # output:{'Red', 'orange'}\n",
        "                           # <class 'set'>\n",
        "```\n",
        "## 4.  Dictionaries { } -\n",
        "it stores data in the form of key value pair.\n",
        "\n",
        "```\n",
        "# defining a dictionary\n",
        "my_dict = {\"name\":\"sakshi\",\"Gender\":\"female\",\"age\":\"23\"}\n",
        "print(my_dict)\n",
        "print(type(my_dict)) #print:{'name': 'sakshi', 'Gender': 'female', 'age': '23'}\n",
        "                     #<class 'dict'>\n",
        "\n",
        "```\n",
        "\n",
        "## 5.  Array[ ]\n",
        "An array in Python is a collection of items stored at contiguous memory locations. It allows you to store multiple values in a single variable, and you can access these values using indices. Arrays are useful for organizing data and performing operations on multiple elements efficiently.\n",
        "\n",
        "Here's a simple example:\n",
        "\n",
        "```\n",
        "import array\n",
        "\n",
        "# Create an array of integers\n",
        "numbers = array.array('i', [1, 2, 3, 4, 5])\n",
        "\n",
        "# Access elements using indices\n",
        "print(numbers[0])  # Output: 1\n",
        "print(numbers[2])  # Output: 3\n",
        "\n",
        "# Modify an element\n",
        "numbers[1] = 10\n",
        "print(numbers)  # Output: array('i', [1, 10, 3, 4, 5])\n",
        "\n",
        "```\n",
        "In this example, array.array('i', [1, 2, 3, 4, 5]) creates an array of integers. You can access and modify elements using their indices.\n",
        "\n",
        "##6. string \" \"\n",
        "a string is a sequence of characters enclosed in quotes. You can use single quotes ('...') or double quotes (\"...\") to create a string. Strings are used to represent text.\n",
        "\n",
        "\n",
        "```\n",
        "# Creating a string\n",
        "greeting = \"Hello, World!\"\n",
        "\n",
        "# Printing the string\n",
        "print(greeting)       # output : 'Hello World'\n",
        "\n",
        "```\n",
        "## importance of Data Structure\n",
        "Data structures are essential components in computer science that help organize, manage, and store data efficiently. They are crucial for several reasons:\n",
        "\n",
        "* Efficient Problem-Solving\n",
        "\n",
        " Data structures provide the means to organize and store data, while algorithms are the steps to process that data. Choosing the right data structure can make programs run faster and use less memory. For example, using a binary search algorithm on a sorted list can significantly reduce the time required to find an element\n",
        "\n",
        "\n",
        "* Crucial for Job Interviews\n",
        "\n",
        " Top tech companies like Google, Microsoft, Amazon, and Apple heavily focus on data structures and algorithms during interviews. These companies deal with vast amounts of data and require efficient solutions. Mastering data structures and algorithms can give candidates a competitive edge in securing jobs at these companies\n",
        "\n",
        "\n",
        "* Improves Coding Skills\n",
        "\n",
        " Learning data structures and algorithms enhances overall programming abilities. It helps in writing cleaner, more efficient, and maintainable code. Understanding the fundamentals of how code works makes it easier to debug and optimize\n",
        "\n",
        "* Solving Real-World Problems\n",
        "\n",
        " The concepts learned from data structures and algorithms are not limited to computers but can be applied to solve everyday problems. For instance, planning the best route or organizing tasks can benefit from these skills   \n",
        "\n",
        "* Competitive Edge in Programming Contests\n",
        "\n",
        " For those interested in competitive programming, mastering data structures and algorithms is a must. Many contests focus on algorithmic problem-solving under time constraints, and strong DSA skills can provide a significant advantage\n",
        "\n",
        "* Adaptability to New Technologies\n",
        "\n",
        " A solid foundation in data structures and algorithms makes it easier to pick up new programming languages and technologies. The principles of data structures and algorithms apply across different languages, helping developers adapt quickly in the fast-changing tech industry\n",
        "\n",
        "* Enhances Decision-Making Skills\n",
        "\n",
        " Understanding data structures and algorithms allows developers to make better decisions in programming. They can choose the most suitable data structures and algorithms for a given problem, leading to solutions that save time and resources.\n",
        "\n",
        "   ###   Practical Applications\n",
        "\n",
        "* Data structures are fundamental in various areas of software development, including:\n",
        "\n",
        "* Operating Systems: Managing hardware resources and running applications\n",
        " smoothly.\n",
        "\n",
        "* Database Systems: Efficiently storing, retrieving, and managing data.\n",
        "\n",
        "* Web Applications: Handling user requests and data processing.\n",
        "\n",
        "* Machine Learning: Processing large datasets and training models effectively.\n",
        "\n",
        "* Video Games: Game logic, graphics rendering, and real-time user interaction.\n",
        "\n",
        "* Cryptography: Securing data through complex encryption algorithms.\n",
        "\n",
        "* Data Analysis: Sorting and interpreting large amounts of information.\n",
        "\n",
        "* Search Engines: Crawling websites and delivering relevant search results quickly.\n",
        "\n",
        "* Social Networks: Modeling connections between friends.\n",
        "\n",
        "* Navigation Systems: Finding the shortest path from one location to another.\n",
        "\n",
        "* E-Commerce: Product recommendations based on user behavior and preferences\n",
        "\n",
        "In conclusion, learning data structures and algorithms is not just for academics but is an important skill for any aspiring programmer. By mastering DSA, you can enhance your problem-solving abilities and optimize how you handle data in real-world applications. This knowledge opens doors to exciting job opportunities, especially at top tech companies that value efficiency and innovation"
      ],
      "metadata": {
        "id": "YKl5GpGiZ2ZZ"
      }
    },
    {
      "cell_type": "markdown",
      "source": [
        "## Q2. Explain the difference between mutable and immutable data types with  examples.\n",
        "### **Mutable vs Immutable Objects in Python**  -\n",
        "  In Python, Every variable in Python holds an instance of an object. There are two types of objects in Python i.e. Mutable and Immutable objects. Whenever an object is instantiated, it is assigned a unique object id. The type of the object is defined at the runtime and it can’t be changed afterward. However, its state can be changed if it is a mutable object.\n",
        "###  # Mutable objects -  \n",
        "mutable datatype are those whose value can be modified after they are created.\n",
        "here are some commom mutable data types in python :\n",
        "\n",
        "1. list [ ]\n",
        "2. set { }\n",
        "3. dictionary { }\n",
        "\n",
        "1. List [ ] - Lists are mutable in Python. We can add or remove elements from the list. In Python, mutability refers to the capability of an object to be changed or modified after its creation.\n",
        "* we can store hydrogenous data in list.\n",
        "\n",
        "```\n",
        "# list[ ]\n",
        "my_list = [1, 2, 3]\n",
        "my_list.append(4)\n",
        "print(my_list)\n",
        "\n",
        "my_list.insert(1, 5)\n",
        "print(my_list)\n",
        "\n",
        "my_list.remove(2)\n",
        "print(my_list)\n",
        "\n",
        "popped_element = my_list.pop(0)\n",
        "print(my_list)         \n",
        "print(popped_element)  \n",
        "\n",
        "```\n",
        "2. set { } - sets are unordered collection of unique elements\n",
        "Here is an example of Set that are mutable i.e., we can make changes in the set.\n",
        "\n",
        "```\n",
        "s = {\"red\",\"orange\",\"blue\"}\n",
        "print(s)           # output : 'red','orange','blue'\n",
        "print (type(s))    # output : set\n",
        "\n",
        "```\n",
        "\n",
        "\n",
        "\n",
        "```\n",
        "my_set = {1, 2, 3}\n",
        "new_set = my_set\n",
        "new_set.add(4)\n",
        "\n",
        "print(my_set)    # output:  {1, 2, 3, 4}\n",
        "print(new_set)   # output : {1, 2, 3, 4}\n",
        "\n",
        "```\n",
        "3. dictionary { } - which stores data in the form of key values .\n",
        "Here is an example of dictionary that are mutable i.e., we can make changes in the Dictionary.\n",
        "\n",
        "```\n",
        "my_dict = {\"name\": \"Ram\", \"age\": 25}\n",
        "new_dict = my_dict\n",
        "new_dict[\"age\"] = 37\n",
        "\n",
        "print(my_dict)   \n",
        "print(new_dict)\n",
        "\n",
        "```\n",
        "\n",
        "### # Immutable object - Immutable types are those whose values cannot be changed once they are created. Here are some common immutable types in Python:\n",
        "1. tuples( )\n",
        "2. string \" \"\n",
        "3. Integers eg -1,2,10\n",
        "4. float eg - 2.3,2.5\n",
        "\n",
        "1. tuples( ) - tuples are data structure thats can not be changed once defined .\n",
        " tuples are immutable , hetrogenous.\n",
        "\n",
        "\n",
        "```\n",
        "my_tuple = (1, 2, 3)\n",
        "# my_tuple[0] = 10   # This will raise a TypeError\n",
        "\n",
        "```\n",
        "2. string \" \" - string is a sequence of character used to represent and     manipulate data.\n",
        "\n",
        "```\n",
        "my_string = \"hello\"\n",
        "# my_string[0] = 'H'   # This will raise a TypeError\n",
        "\n",
        "```\n",
        "3. Integers -\n",
        "\n",
        "```\n",
        "my_int = 10\n",
        "# my_int += 1      # This creates a new integer object, my_int is now 11\n",
        "\n",
        "```\n",
        "4. Floats -\n",
        "\n",
        "\n",
        "```\n",
        "my_float = 10.5\n",
        "# my_float += 1.5    # This creates a new float object, my_float is now 12.0\n",
        "\n",
        "```\n",
        "* Key Points -\n",
        "\n",
        "  Mutability affects how objects behave when passed to functions or assigned to new variables.\n",
        "  Mutable objects can be changed in place, while immutable objects cannot.\n",
        "  Understanding these concepts helps in writing efficient and bug-free code.\n",
        "\n",
        "\n"
      ],
      "metadata": {
        "id": "cArJGcLdizcN"
      }
    },
    {
      "cell_type": "markdown",
      "source": [
        "## Q3. What are the main differences between lists and tuples in Python.\n",
        "  In Python, tuples and lists are both used to store collections of data, but they have some important differences. Here are some situations where you might want to use tuples instead of lists:\n",
        "\n",
        " * Immutability: Tuples are immutable, ensuring data integrity by preventing modifications. Ideal for constants, configurations, and fixed data.\n",
        "\n",
        "* Performance: Tuples are faster and more memory-efficient than lists as they are stored in a single block and don’t require extra space for modifications.\n",
        "\n",
        "* Memory Efficiency: Tuples use contiguous memory, while lists need extra space\n",
        "  for dynamic resizing, making tuples a better choice for large, unchanging datasets.\n",
        "##  # Mutability Test: List vs Tuples\n",
        "##  # List are Mutable\n",
        " Lists can be modified, meaning their elements can be changed, added or removed after creation.\n",
        "\n",
        "\n",
        "\n",
        "```\n",
        "# List\n",
        "a = [1, 2, 4, 4, 3, 3, 3, 6, 5]\n",
        "\n",
        "# Modifying an element in the list `a`\n",
        "a[3] = 15\n",
        "print(a) # output : [1, 2, 4, 15, 3, 3, 3, 6, 5]\n",
        "\n",
        "```\n",
        "\n",
        "## #  Tuples are Immutable\n",
        "Tuples cannot be modified after creation. Any attempt to change an element will result in an error.\n",
        "\n",
        "\n",
        "\n",
        "```\n",
        "b = (0, 1, 2, 3)\n",
        "# Attempting to modify a tuple\n",
        "b[0] = 4\n",
        "print(b) # TypeError: 'tuple' object does not support item assignment\n",
        "\n",
        "```\n",
        "  # # Operations –\n",
        "Lists vs Tuples\n",
        "In Python, both lists and tuples support a range of operations, including indexing, slicing, concatenation, and more. However, there are some differences between the operations that are available for lists and tuples due to their mutability and immutability, respectively.\n",
        "\n",
        "  # Indexing\n",
        "Both lists and tuples allow you to access individual elements using their index, starting from 0.\n",
        "\n",
        "\n",
        "```\n",
        "a = [1, 2, 3] # list\n",
        "b = (4, 5, 6) # tuple\n",
        "\n",
        "print(a[0])\n",
        "print(b[1])\n",
        "\n",
        "```\n",
        " # Slicing\n",
        "Both lists and tuples allow you to extract a subset of elements using slicing\n",
        "\n",
        "\n",
        "```\n",
        "a = [1, 2, 3, 4, 5]\n",
        "b = (6, 7, 8, 9, 10)\n",
        "\n",
        "print(a[1:3])\n",
        "print(b[:3]) # output : [2, 3],(6, 7, 8)\n",
        "\n",
        "```\n",
        "# Concatenation\n",
        "Both lists and tuples can be concatenated using the “+” operator.\n",
        "\n",
        "\n",
        "\n",
        "```\n",
        "# List Concatenation\n",
        "a = [1, 2, 3]\n",
        "b = [4, 5, 6]\n",
        "print(a + b)       # output:[1, 2, 3, 4, 5, 6]\n",
        "\n",
        "# Tuple Concatenation\n",
        "a = (7, 8, 9)\n",
        "b = (10, 11, 12)\n",
        "print(a + b)       # output : (7, 8, 9, 10, 11, 12)\n",
        "\n",
        "```\n",
        "# # List-Specific operations\n",
        "Only lists support operations that modify their contents:\n",
        "\n",
        "* Append: Adds an element at the end.\n",
        "* Extend: Merges another list.\n",
        "* Remove: Removes the first occurrence of a value.\n",
        "\n",
        "\n",
        "\n",
        "```\n",
        "a = [1, 2, 3]\n",
        "\n",
        "a.append(4)\n",
        "a.extend([5, 6])\n",
        "a.remove(2)\n",
        "print(a)      #output : [1, 3, 4, 5, 6]\n",
        "\n",
        "```\n",
        "\n",
        "\n",
        "\n",
        "\n"
      ],
      "metadata": {
        "id": "k1bQuSRAExR1"
      }
    },
    {
      "cell_type": "markdown",
      "source": [
        "#Q4. Describe how dictionaries store data.\n",
        "\n",
        "#  Dictionaries (Key Value Pair)\n",
        "Dictionaries store data as key-value pairs, where each key is unique and maps to exactly one value. They are unordered collections, meaning the order of elements is not guaranteed, and they allow for fast access to values using their corresponding keys. In programming languages like Python, dictionaries are mutable, meaning you can change their contents after creation, and they can store values of any data type.\n",
        " # Understanding Python Dictionaries\n",
        "A dictionary in Python is a collection of key-value pairs. Each key is unique and is used to store and retrieve the corresponding value. Dictionaries are mutable, meaning you can change their content without changing their identity.\n",
        "\n",
        "# How Dictionaries Store Data\n",
        " Internally, Python dictionaries use a hash table to store the key-value pairs. Here's a simplified explanation:\n",
        "\n",
        "* Hashing: When you add a key-value pair to a dictionary, Python computes a hash value for the key using a hash function. This hash value is an integer that uniquely identifies the key.\n",
        "* Indexing: The hash value is then used to determine the index in an internal array where the value will be stored.\n",
        "* Collision Handling: If two keys hash to the same index (a collision), Python uses a technique called chaining (or open addressing) to handle it. This involves storing multiple key-value pairs at the same index in a linked list or probing to find the next available slot.\n",
        "\n",
        "* Example\n",
        "Here's a simple example to illustrate\n",
        "\n",
        "\n",
        "```\n",
        "# Creating a dictionary\n",
        "student_scores = {\n",
        "    \"Alice\": 85,\n",
        "    \"Bob\": 92,\n",
        "    \"Charlie\": 78\n",
        "}\n",
        "\n",
        "# Accessing a value\n",
        "print(student_scores[\"Alice\"])  # Output: 85\n",
        "\n",
        "# Adding a new key-value pair\n",
        "student_scores[\"David\"] = 90\n",
        "\n",
        "# Updating an existing value\n",
        "student_scores[\"Alice\"] = 88\n",
        "\n",
        "# Removing a key-value pair\n",
        "del student_scores[\"Charlie\"]\n",
        "\n",
        "# Iterating over the dictionary\n",
        "for student, score in student_scores.items():\n",
        "    print(f\"{student}: {score}\")  # output : 85, Alice: 88, Bob: 92,David: 90\n",
        "\n",
        "```\n",
        "Explanation:\n",
        "* Creation: The dictionary student_scores is created with three key-value pairs.\n",
        "* Access: The value associated with the key \"Alice\" is accessed using student_scores[\"Alice\"].\n",
        "* Addition: A new key-value pair is added with student_scores[\"David\"] = 90.\n",
        "* Update: The value for the key \"Alice\" is updated to 88.\n",
        "* Deletion: The key-value pair for \"Charlie\" is removed using del student_scores[\"Charlie\"].\n",
        "* Iteration: The dictionary is iterated over using a for loop, printing each key-value pair.\n",
        "## Conclusion\n",
        "Dictionaries in Python are powerful and efficient for storing and retrieving data using unique keys. The underlying hash table mechanism ensures fast access times, making dictionaries a fundamental data structure in Python programming.\n"
      ],
      "metadata": {
        "id": "31xVrvTMNWgy"
      }
    },
    {
      "cell_type": "markdown",
      "source": [
        "# Q5. Why might you use a set instead of a list in Python.\n",
        "Sets and lists are built-in data structures you can use to store and arrange values in Python.\n",
        "\n",
        "* If you're wondering which to use, it depends on the use case. If you don’t want the values in the data to change, you can use a set. But if you want the items to change, you can use a list. You can also take into account whether the order of the items matters to you or not.\n",
        "\n",
        "Here are a few reasons why we might choose to use a set instead of a list in Python:\n",
        "\n",
        "1. Uniqueness:\n",
        " Sets automatically ensure that all elements are unique. If you need to store a collection of items and want to avoid duplicates, a set is the way to go.\n",
        "\n",
        "\n",
        "```\n",
        "my_set = {1, 2, 3, 3, 4}\n",
        "print(my_set)            # Output: {1, 2, 3, 4}\n",
        "\n",
        "```\n",
        "2.Performance:\n",
        "\n",
        " Sets provide faster membership testing compared to lists. Checking if an item is in a set is on average O(1), while for a list, it is O(n).\n",
        "\n",
        "\n",
        "```\n",
        "my_set = {1, 2, 3, 4}\n",
        "print(3 in my_set)     # Output: True\n",
        "\n",
        "```\n",
        "3.Set Operations:\n",
        "\n",
        " Sets support mathematical operations like union, intersection, difference, and symmetric difference, which can be very handy for certain types of problems.\n",
        "\n",
        "\n",
        "```\n",
        "set_a = {1, 2, 3}\n",
        "set_b = {3, 4, 5}\n",
        "print(set_a & set_b)    # Intersection: {3}\n",
        "print(set_a | set_b)    # Union: {1, 2, 3, 4, 5}\n",
        "\n",
        "```\n",
        "Using sets can make your code more efficient and expressive when dealing with collections of unique items or when you need to perform set operations.\n",
        "\n"
      ],
      "metadata": {
        "id": "oSk-h88vRZ3X"
      }
    },
    {
      "cell_type": "markdown",
      "source": [
        "# Q6. What is a string in Python, and how is it different from a list.\n",
        "## String in Python\n",
        "A string in Python is a sequence of characters enclosed within single quotes ('), double quotes (\"), or triple quotes (''' or \"\"\"). Strings are immutable, meaning once you create a string, you cannot change its content.\n",
        "\n",
        "Example:\n",
        "\n",
        "\n",
        "```\n",
        "my_string = \"Hello, World!\"\n",
        "my_string                   # output: \"Hello, World!\"\n",
        "\n",
        "```\n",
        "## List in Python\n",
        "\n",
        "A list in Python is a collection of items (which can be of different types) enclosed within square brackets ([]). Lists are mutable, meaning you can change their content after creation.\n",
        "\n",
        "Example:\n",
        "\n",
        "```\n",
        "my_list = [1, 2, 3, \"Hello\", 4.5]\n",
        "my_list                 # output: [1, 2, 3, 'Hello', 4.5]\n",
        "```\n",
        "\n",
        "## Key Differences:\n",
        "### Mutability:\n",
        "\n",
        "* String: Immutable. You cannot change the characters in a string once it is created.\n",
        "* List: Mutable. You can modify, add, or remove elements from a list.\n",
        "\n",
        "### Data Types:\n",
        "\n",
        "* String: Contains only characters.\n",
        "* List: Can contain elements of different data types (integers, floats, strings, etc.).\n",
        "## Syntax:\n",
        "\n",
        "* String: Enclosed in quotes (', \", ''', \"\"\").\n",
        "* List: Enclosed in square brackets ([]).\n",
        "## Operations:\n",
        "\n",
        "String: Supports operations like concatenation (+), repetition (*), slicing, and various string methods (.upper(), .lower(), .split(), etc.).\n",
        "List: Supports operations like concatenation (+), repetition (*), slicing, and various list methods (.append(), .remove(), .sort(), etc.).\n",
        "\n",
        "Examples:\n",
        "String Operations\n",
        "\n",
        "```\n",
        "# Concatenation\n",
        "greeting = \"Hello, \" + \"World!\"\n",
        "\n",
        "# Repetition\n",
        "echo = \"Echo! \" * 3\n",
        "\n",
        "# Slicing\n",
        "part = greeting[0:5]\n",
        "\n",
        "# Methods\n",
        "upper_case = greeting.upper()\n",
        "\n",
        "```\n",
        "List Operations:\n",
        "\n",
        "```\n",
        "# Concatenation\n",
        "combined_list = [1, 2, 3] + [4, 5, 6]\n",
        "\n",
        "# Repetition\n",
        "repeated_list = [1, 2] * 3\n",
        "\n",
        "# Slicing\n",
        "sub_list = combined_list[1:4]\n",
        "\n",
        "# Methods\n",
        "combined_list.append(7)\n",
        "combined_list.remove(2)\n",
        "combined_list.sort()\n",
        "\n",
        "```\n",
        "\n",
        "\n"
      ],
      "metadata": {
        "id": "V4Ao7x5wUc3C"
      }
    },
    {
      "cell_type": "markdown",
      "source": [
        "## Q7. How do tuples ensure data integrity in Python.\n",
        "Tuples in Python are a powerful tool for ensuring data integrity due to their immutable nature. Here’s how they contribute to maintaining data integrity:\n",
        "\n",
        "### 1. Immutability :\n",
        "Once a tuple is created, its elements cannot be changed, added, or removed. This immutability ensures that the data remains consistent and unaltered throughout the program. For example:\n",
        "\n",
        "\n",
        "```\n",
        "my_tuple = (1, 2, 3)\n",
        "# Trying to change an element will raise an error\n",
        "# my_tuple[0] = 10  # This will raise a TypeError\n",
        "\n",
        "```\n",
        "### 2. Hashability :\n",
        "Because tuples are immutable, they can be used as keys in dictionaries or elements in sets, which require hashable types. This allows for the creation of complex data structures while maintaining data integrity:\n",
        "\n",
        "\n",
        "```\n",
        "my_dict = {('key1', 'key2'): 'value'}\n",
        "print(my_dict[('key1', 'key2')])      # Outputs: value\n",
        "\n",
        "```\n",
        "### 3. Predictable Behavior:\n",
        "\n",
        "Tuples provide predictable behavior since their contents cannot be modified. This predictability is crucial in scenarios where the integrity of the data is paramount, such as in configurations or constants:\n",
        "\n",
        "\n",
        "```\n",
        "CONFIG = ('localhost', 8080, 'admin')\n",
        "# CONFIG cannot be altered, ensuring the configuration remains consistent\n",
        "\n",
        "```\n",
        "### 4. Safe Data Sharing :\n",
        "\n",
        "When sharing data between different parts of a program or between different programs, using tuples ensures that the data remains unchanged, thus preventing accidental modifications:\n",
        "\n",
        "\n",
        "```\n",
        "def process_data(data):\n",
        "    # data is a tuple, ensuring it remains unchanged during processing\n",
        "    print(data)\n",
        "\n",
        "data = (10, 20, 30)\n",
        "process_data(data)\n",
        "\n",
        "```\n",
        "\n",
        "By leveraging these properties, tuples help maintain the integrity and consistency of data throughout the lifecycle of a Python application.\n",
        "\n",
        "\n",
        "\n"
      ],
      "metadata": {
        "id": "ZrdKRcq7bv9f"
      }
    },
    {
      "cell_type": "markdown",
      "source": [
        "## Q8. What is a hash table, and how does it relate to dictionaries in Python.\n",
        "## Hash Table\n",
        "\n",
        "A hash table is a data structure that maps keys to values using a hash function. This function computes an index into an array of buckets or slots, from which the desired value can be found. Hash tables are widely used for their efficiency in performing insertions, deletions, and lookups.\n",
        "\n",
        "## Key Concepts\n",
        "\n",
        "### Hash Function\n",
        "\n",
        "* A hash function translates keys into array indices. A good hash function distributes keys uniformly across the array to minimize collisions and ensure quick lookup speeds. Common methods include:\n",
        "\n",
        "* Hashing by Division: Uses the remainder of the key divided by the array size.\n",
        "\n",
        "* Hashing by Multiplication: Multiplies the key by a constant and uses the fractional part to determine the index\n",
        "\n",
        "### Load Factor\n",
        "\n",
        "The load factor is the ratio of the number of elements to the size of the table. A high load factor can lead to more collisions and longer search times. Maintaining an optimal load factor involves using a good hash function and resizing the table as needed\n",
        "\n",
        "### Collision Resolution\n",
        "\n",
        "* Collisions occur when two keys hash to the same index. Common techniques to handle collisions include:\n",
        "\n",
        "* Separate Chaining: Uses linked lists to store multiple elements at the same index.\n",
        "\n",
        "* Open Addressing: Finds the next available slot using methods like linear probing, quadratic probing, or double hashing\n",
        "\n",
        "Example :  Implementation in Python\n",
        "\n",
        "Here is a simple implementation of a hash table using separate chaining in Python:\n",
        "\n",
        "```\n",
        "class HashTable:\n",
        "def __init__(self, size):\n",
        "self.size = size\n",
        "self.table = [[] for _ in range(size)]\n",
        "\n",
        "def hash_function(self, key):\n",
        "return key % self.size\n",
        "\n",
        "def insert(self, key, value):\n",
        "index = self.hash_function(key)\n",
        "self.table[index].append((key, value))\n",
        "\n",
        "def delete(self, key):\n",
        "index = self.hash_function(key)\n",
        "for i, (k, v) in enumerate(self.table[index]):\n",
        "if k == key:\n",
        "del self.table[index][i]\n",
        "return\n",
        "\n",
        "def search(self, key):\n",
        "index = self.hash_function(key)\n",
        "for k, v in self.table[index]:\n",
        "if k == key:\n",
        "return v\n",
        "return None\n",
        "\n",
        "# Example usage\n",
        "hash_table = HashTable(10)\n",
        "hash_table.insert(15, 'Value1')\n",
        "hash_table.insert(25, 'Value2')\n",
        "print(hash_table.search(15))       # Output: Value1\n",
        "hash_table.delete(15)\n",
        "print(hash_table.search(15))       # Output: None\n",
        "```\n",
        "Applications\n",
        "\n",
        "Hash tables are used in various applications, including:\n",
        "\n",
        "Database Indexing: For fast data retrieval based on key values.\n",
        "\n",
        "Caching: To store frequently accessed data for quick access.\n",
        "\n",
        "Cryptography: For creating digital signatures and ensuring data integrity\n",
        "1\n",
        "2\n",
        ".\n",
        "\n",
        "Performance\n",
        "\n",
        "The average time complexity for lookup, insertion, and deletion operations in a hash table is O(1). However, in the worst case, these operations can take O(n) time due to collisions\n",
        "\n",
        "By understanding and implementing hash tables, you can efficiently manage key-value pairs and optimize data retrieval in your applications.\n"
      ],
      "metadata": {
        "id": "I7Xeb-fVdyWq"
      }
    },
    {
      "cell_type": "markdown",
      "source": [
        "# Q 9. Can lists contain different data types in Python ?\n",
        "\n",
        " Absolutely! In Python, lists are incredibly versatile and can contain elements of different data types. For example, you can have integers, strings, floats, and even other lists all within a single list. Here's a quick example to illustrate this:\n",
        "\n",
        "```\n",
        "# A list containing different data types\n",
        "mixed_list = [42, \"Hello, world!\", 3.14, [1, 2, 3], {\"key\": \"value\"}]\n",
        "\n",
        "print(mixed_list)\n",
        "\n",
        "```\n",
        "\n",
        "\n",
        "```\n",
        "list = [1,2.3 ,\"aloo\",\"baingan\",\"tomato\",True,False,1+2j]\n",
        "list       # output : [1,2.3 , 'aloo', 'baingan', 'tomato\", True, False,(1+2j)]\n",
        "```\n",
        "\n",
        "In these examples, mixed_list contains an integer, a string, a float, another list, and a dictionary. Python's dynamic typing allows for this flexibility, making lists a powerful tool for various applications.\n"
      ],
      "metadata": {
        "id": "d42pYKJpgjrk"
      }
    },
    {
      "cell_type": "markdown",
      "source": [
        "## Q10.Explain why strings are immutable in Python.\n",
        "In Python, strings are immutable, which means once a string is created, it cannot be changed. Here are a few reasons why this design choice was made:\n",
        "\n",
        "### 1. Efficiency and Performance\n",
        "\n",
        "* Memory Management: Immutable objects can be shared across different parts of a program without the risk of one part modifying it and causing unexpected behavior elsewhere. This reduces the need for copying and can save memory.\n",
        "\n",
        "* Caching and Interning: Python can optimize memory usage by reusing immutable objects. For example, small strings and integers are often interned, meaning they are stored in a single location and reused, which speeds up comparisons and saves memory.\n",
        "\n",
        "### 2. Thread Safety\n",
        "\n",
        "* Concurrency: In multi-threaded applications, immutable objects can be shared between threads without needing locks or other synchronization mechanisms. This makes the code simpler and reduces the risk of bugs related to concurrent modifications.\n",
        "\n",
        "### 3. Predictability and Simplicity\n",
        "* Consistency: Immutable objects provide a consistent state. Once a string is created, you can be sure that it will not change, which makes reasoning about the code easier.\n",
        "* Hashing: Strings are often used as keys in dictionaries. For an object to be used as a key in a dictionary, it must be hashable, which requires that its hash value remains constant. Immutability ensures that the hash value of a string does not change, making it a reliable key.\n",
        "\n",
        "### 4. Security\n",
        "\n",
        "* Integrity: Immutable objects are inherently more secure because their state cannot be altered. This is particularly important in contexts where data integrity is crucial, such as in cryptographic operations.\n",
        "* In summary, the immutability of strings in Python enhances performance, ensures thread safety, simplifies code, and maintains security. This design choice aligns with Python's philosophy of simplicity and efficiency.\n",
        "\n",
        "### #Example\n",
        "Let's look at an example to illustrate this:\n",
        "\n",
        "```\n",
        "# Creating a string\n",
        "original_string = \"Hello, World!\"\n",
        "\n",
        "# Trying to change a character in the string (this will raise an error)\n",
        "try:\n",
        "    original_string[7] = 'w'\n",
        "except TypeError as e:\n",
        "    print(f\"Error: {e}\")\n",
        "\n",
        "# Instead, you create a new string\n",
        "new_string = original_string[:7] + 'w' + original_string[8:]\n",
        "\n",
        "print(\"Original String:\", original_string)\n",
        "print(\"New String:\", new_string)\n",
        "\n",
        "```\n",
        "Explanation\n",
        "\n",
        "### 1.Attempt to Modify:\n",
        " When you try to change a character in original_string using original_string[7] = 'w', Python raises a TypeError because strings are immutable.\n",
        "\n",
        "### 2.Creating a New String:\n",
        "To \"modify\" the string, you actually create a new string by slicing the original string and concatenating the desired changes. In this case, original_string[:7] gives \"Hello, \" and original_string[8:] gives \"orld!\", so concatenating these with 'w' results in \"Hello, world!\".\n",
        "\n",
        "This immutability ensures that the original string remains unchanged, and any \"modification\" results in a new string being created.\n",
        "\n",
        "\n"
      ],
      "metadata": {
        "id": "VjR0cBJgjh7S"
      }
    },
    {
      "cell_type": "markdown",
      "source": [
        "## Q11.What advantages do dictionaries offer over lists for certain tasks.\n",
        "  Here are some key points:\n",
        "###  1. Key-Value Pair Storage\n",
        "Dictionaries store data in key-value pairs, allowing for more meaningful associations between elements. This makes it easier to retrieve values based on unique keys rather than relying on index positions.\n",
        "\n",
        "### 2. Faster Lookups\n",
        "Dictionaries provide faster lookups for values using keys due to their underlying hash table implementation. Accessing an element in a dictionary is generally quicker than searching through a list, especially for large datasets.\n",
        "\n",
        "### 3. Unordered Collection\n",
        "While lists maintain order, dictionaries do not. This can be advantageous when the order of elements is not important, and you need efficient access and manipulation of data.\n",
        "\n",
        "### 4. Dynamic Size\n",
        "Both dictionaries and lists can grow dynamically, but dictionaries offer more flexibility in terms of adding and removing key-value pairs without worrying about maintaining order.\n",
        "\n",
        "### 5. Unique Keys\n",
        "Dictionaries enforce unique keys, which helps prevent duplicate entries and ensures that each key maps to a single value. This is useful for scenarios where you need to ensure data integrity.\n",
        "\n",
        "### 6. Versatile Data Types\n",
        "Keys in dictionaries can be of various data types (strings, numbers, tuples), whereas list indices are limited to integers. This allows for more complex and versatile data structures.\n",
        "\n",
        "Example Comparison\n",
        "\n",
        "* List\n",
        "\n",
        "```\n",
        "# List of student names\n",
        "students = [\"Alice\", \"Bob\", \"Charlie\"]\n",
        "# Accessing by index\n",
        "print(students[1])     # Output: Bob\n",
        "\n",
        "```\n",
        "* Dictionary\n",
        "\n",
        "```\n",
        "# Dictionary of student names with their IDs\n",
        "students = {101: \"Alice\", 102: \"Bob\", 103: \"Charlie\"}\n",
        "# Accessing by key\n",
        "print(students[102])        # Output: Bob\n",
        "\n",
        "```\n",
        "\n",
        "\n",
        "\n"
      ],
      "metadata": {
        "id": "QNp1ChKllQZx"
      }
    },
    {
      "cell_type": "markdown",
      "source": [
        "## Q12. Describe a scenario where using a tuple would be preferable over a list.\n",
        "\n",
        "## Scenario: Library Catalog\n",
        "* Context: You need to store the details of each book in a way that ensures\n",
        "the data remains immutable once it's set. This is important because the ISBN,\n",
        "title, and author of a book should not change once they are entered into the\n",
        "system.\n",
        "\n",
        "## Why Tuples are Preferable:\n",
        "\n",
        "### Immutability:\n",
        "\n",
        "Tuples are immutable, meaning once you create a tuple, you cannot change its\n",
        "contents. This is ideal for storing book details because it ensures that the\n",
        " information remains consistent and unaltered.\n",
        "Lists, on the other hand, are mutable and can be changed after creation, which\n",
        "might lead to accidental modifications of book details.\n",
        "\n",
        "### Performance:\n",
        "\n",
        "Tuples can be more memory-efficient and faster to access compared to lists,\n",
        "which can be beneficial when dealing with a large number of books.\n",
        "Lists have additional overhead due to their mutability, which can make them\n",
        "slightly slower in certain operations.\n",
        "\n",
        "### Semantic Clarity:\n",
        "Using a tuple to store book details can make the code more readable and\n",
        "semantically clear. It signals to other developers that the data is not meant\n",
        "to be changed.\n",
        "Lists might imply that the data could be modified, which could lead to\n",
        "misunderstandings.\n",
        "\n",
        "Example Code:\n",
        "\n",
        "```\n",
        "# Using a tuple to store book details\n",
        "book_details = (\"978-3-16-148410-0\", \"The Great Gatsby\", \"F. Scott Fitzgerald\")\n",
        "\n",
        "# Accessing book details\n",
        "isbn, title, author = book_details\n",
        "\n",
        "print(f\"ISBN: {isbn}\")\n",
        "print(f\"Title: {title}\")\n",
        "print(f\"Author: {author}\")    #output:ISBN: 978-3-16-148410-0\n",
        "                              #Title: The Great Gatsby\n",
        "                              #Author: F. Scott Fitzgerald\n",
        "\n",
        "```\n",
        "In this example, the tuple book_details holds the ISBN, title, and author of a book. The immutability of the tuple ensures that these details remain consistent throughout the program, providing reliability and clarity.\n"
      ],
      "metadata": {
        "id": "3pY5rG_us2qa"
      }
    },
    {
      "cell_type": "markdown",
      "source": [
        "## Q13. How do sets handle duplicate values in Python.\n",
        "In Python, sets are a collection type that automatically handle duplicate values by ensuring that each element is unique. When you add elements to a set, any duplicates are automatically removed. Here's a brief overview:\n",
        "\n",
        "### Creating a Set\n",
        "\n",
        "You can create a set using curly braces {} or the set() function.\n",
        "\n",
        "```\n",
        "# Using curly braces\n",
        "my_set = {1, 2, 3, 4, 4, 5}\n",
        "print(my_set)                    # Output: {1, 2, 3, 4, 5}\n",
        "\n",
        "# Using the set() function\n",
        "my_set = set([1, 2, 3, 4, 4, 5])\n",
        "print(my_set)                    # Output: {1, 2, 3, 4, 5}\n",
        "\n",
        "```\n",
        "### Adding Elements\n",
        "When you add elements to a set, duplicates are ignored.\n",
        "\n",
        "```\n",
        "my_set = {1, 2, 3}\n",
        "my_set.add(3)\n",
        "my_set.add(4)\n",
        "print(my_set)    # Output: {1, 2, 3, 4}\n",
        "\n",
        "```\n",
        "### Using Set Operations\n",
        "Sets support various operations like union, intersection, and difference, which also handle duplicates appropriately.\n",
        "\n",
        "```\n",
        "set1 = {1, 2, 3}\n",
        "set2 = {3, 4, 5}\n",
        "\n",
        "# Union\n",
        "union_set = set1 | set2\n",
        "print(union_set)               # Output: {1, 2, 3, 4, 5}\n",
        "\n",
        "# Intersection\n",
        "intersection_set = set1 & set2\n",
        "print(intersection_set)        # Output: {3}\n",
        "\n",
        "# Difference\n",
        "difference_set = set1 - set2\n",
        "print(difference_set)          # Output: {1, 2}\n",
        "\n",
        "```\n",
        "* Summary\n",
        "\n",
        "In summary, Python sets automatically handle duplicate values by ensuring that each element is unique. This makes sets particularly useful for tasks that require uniqueness, such as removing duplicates from a list.\n",
        "\n",
        "\n",
        "\n"
      ],
      "metadata": {
        "id": "UkDT_UMsxQ7y"
      }
    },
    {
      "cell_type": "markdown",
      "source": [
        "## Q 14. How does the “in” keyword work differently for lists and dictionaries.\n",
        "## \"in\" keyword\n",
        "The in keyword in Python is used to check for membership within a collection, but it behaves differently depending on whether you're working with lists or dictionaries.\n",
        "## Lists\n",
        "For lists, the in keyword checks if a specific element is present in the list. It iterates through the list and returns True if it finds the element, otherwise it returns False.\n",
        "\n",
        "\n",
        "```\n",
        "my_list = [1, 2, 3, 4, 5]\n",
        "print(3 in my_list)  # Output: True\n",
        "print(6 in my_list)  # Output: False\n",
        "\n",
        "```\n",
        "## Dictionaries\n",
        "For dictionaries, the in keyword checks if a specific key is present in the dictionary. It does not check the values, only the keys.\n",
        "\n",
        "```\n",
        "my_dict = {'a': 1, 'b': 2, 'c': 3}\n",
        "print('b' in my_dict)  # Output: True\n",
        "print(2 in my_dict)    # Output: False\n",
        "\n",
        "```\n",
        "### Summary\n",
        "* Lists: in checks for the presence of an element.\n",
        "* Dictionaries: in checks for the presence of a key.\n",
        "I hope this helps clarify how the in keyword works differently for lists and dictionaries! If you have any more questions or need further assistance, feel free to ask.\n",
        "\n"
      ],
      "metadata": {
        "id": "BUY2JDhY0Yzl"
      }
    },
    {
      "cell_type": "markdown",
      "source": [
        "## Q15.Can you modify the elements of a tuple? Explain why or why not.\n",
        "### Tuple\n",
        "In Python, tuples are immutable, which means that once a tuple is created, its elements cannot be modified, added, or removed. This immutability is a key characteristic that distinguishes tuples from lists.\n",
        "\n",
        "### Why Tuples Are Immutable\n",
        "* Data Integrity: Immutability ensures that the data remains constant throughout the program, which can prevent accidental changes and bugs.\n",
        "* Hashability: Because tuples are immutable, they can be used as keys in dictionaries and elements in sets, which require their elements to be hashable.\n",
        "* Performance: Immutable objects can be optimized by the Python interpreter, potentially leading to performance improvements.\n",
        "\n",
        "Example\n",
        "\n",
        "```\n",
        "# Creating a tuple\n",
        "my_tuple = (1, 2, 3)\n",
        "\n",
        "# Attempting to modify an element will raise an error\n",
        "try:\n",
        "    my_tuple[0] = 10\n",
        "except TypeError as e:\n",
        "    print(f\"Error: {e}\")\n",
        "                # output:Error: 'tuple' object does not support item assignment\n",
        "\n",
        "\n",
        "```\n",
        "### Workaround\n",
        "If you need to modify the elements, you can convert the tuple to a list, make the changes, and then convert it back to a tuple.\n",
        "\n",
        "```\n",
        "# Converting tuple to list\n",
        "my_list = list(my_tuple)\n",
        "\n",
        "# Modifying the list\n",
        "my_list[0] = 10\n",
        "\n",
        "# Converting back to tuple\n",
        "my_tuple = tuple(my_list)\n",
        "\n",
        "print(my_tuple)           # Output: (10, 2, 3)\n",
        "\n",
        "```\n",
        "In summary, while you cannot directly modify the elements of a tuple due to its immutability, you can work around this limitation by converting the tuple to a list, making the necessary changes, and then converting it back to a tuple.\n"
      ],
      "metadata": {
        "id": "8CU3No-h2zqT"
      }
    },
    {
      "cell_type": "markdown",
      "source": [
        "## Q16. What is a nested dictionary, and give an example of its use case.\n",
        "## nested dictionary:\n",
        "A nested dictionary in Python is a dictionary within another dictionary. This structure allows you to store complex data in a hierarchical manner, making it easier to organize and access related information.\n",
        "\n",
        "* Example Use Case: Student Grades\n",
        "\n",
        "Imagine you are managing a system that stores students\n",
        "grades for different subjects. A nested dictionary can be an efficient way to organize this data.\n",
        "\n",
        "```\n",
        "# Nested dictionary example\n",
        "students_grades = {\n",
        "    'Alice': {\n",
        "        'Math': 85,\n",
        "        'Science': 92,\n",
        "        'English': 88\n",
        "    },\n",
        "    'Bob': {\n",
        "        'Math': 78,\n",
        "        'Science': 75,\n",
        "        'English': 80\n",
        "    },\n",
        "    'Charlie': {\n",
        "        'Math': 90,\n",
        "        'Science': 85,\n",
        "        'English': 87\n",
        "    }\n",
        "}\n",
        "\n",
        "# Accessing data\n",
        "alice_math_grade = students_grades['Alice']['Math']\n",
        "print(f\"Alice's Math grade: {alice_math_grade}\")\n",
        "\n",
        "# Adding a new subject for Bob\n",
        "students_grades['Bob']['History'] = 82\n",
        "\n",
        "# Printing updated dictionary\n",
        "print(students_grades)\n",
        "\n",
        "# output: Alice's Math grade: 85\n",
        "{'Alice': {'Math': 85, 'Science': 92, 'English': 88},\n",
        "'Bob': {'Math': 78, 'Science': 75, 'English': 80, 'History': 82},\n",
        "'Charlie': {'Math': 90, 'Science': 85, 'English': 87}}\n",
        "```\n",
        "### Explanation\n",
        "* Structure: The outer dictionary keys are student names, and the values are dictionaries containing subjects and their corresponding grades.\n",
        "* Accessing Data: You can access a specific student's grade in a particular subject by chaining keys.\n",
        "* Modifying Data: You can easily add new subjects or update existing grades.\n",
        "This nested dictionary structure is highly adaptable and can be used in various scenarios where hierarchical data storage is needed, such as managing employee records, product inventories, or configuration settings.\n"
      ],
      "metadata": {
        "id": "DUpw_MWR5qjB"
      }
    },
    {
      "cell_type": "markdown",
      "source": [
        "## Q17.Describe the time complexity of accessing elements in a dictionary.\n",
        "Accessing elements in a dictionary in Python is generally very efficient. Here's a brief overview of the time complexity:\n",
        "\n",
        "### Average Case\n",
        "* Time Complexity: $$O(1)$$\n",
        "* Explanation: In the average case, accessing an element in a dictionary is done in constant time. This is because dictionaries in Python are implemented as hash tables, which allow for quick lookups by computing a hash of the key.\n",
        "\n",
        "### Worst Case\n",
        "\n",
        "* Time Complexity: $$O(n)$$\n",
        "* Explanation: In the worst case, the time complexity can degrade to linear time. This can happen if there are many hash collisions, causing multiple keys to be stored in the same bucket. In such cases, the dictionary might need to search through a list of elements, leading to $$O(n)$$ complexity.\n",
        "### Summary\n",
        "* Average Case: $$O(1)$$\n",
        "* Worst Case:$$O(n)$$\n",
        "\n",
        "In practice, Python's dictionary implementation is highly optimized, and accessing elements is typically very fast."
      ],
      "metadata": {
        "id": "MnkfvzCs9GJv"
      }
    },
    {
      "cell_type": "markdown",
      "source": [
        "## Q18.In what situations are lists preferred over dictionaries.\n",
        "Both lists and dictionaries are fundamental data structures in Python, each with their own strengths. Here are some situations where lists are preferred over dictionaries:\n",
        "\n",
        "### 1.Ordered Data:\n",
        " If you need to maintain the order of elements, lists are ideal because they preserve the order of insertion. Dictionaries, while ordered as of Python 3.7+, are primarily used for key-value pairs and not for maintaining a sequence of elements.\n",
        "\n",
        "### 2.Index-Based Access:\n",
        "  When you need to access elements by their position, lists are the way to go. Lists allow you to retrieve elements using their index, which is useful for sequential data processing.\n",
        "\n",
        "### 3.Homogeneous Data:\n",
        "If your data is homogeneous (all elements are of the same type), lists are more appropriate. For example, a list of integers or a list of strings.\n",
        "\n",
        "### 4.Iteration:\n",
        " Lists are more straightforward for simple iteration when you don't need to deal with key-value pairs. They are ideal for looping through a collection of items.\n",
        "\n",
        "### 5.Memory Efficiency:\n",
        " Lists generally consume less memory compared to dictionaries, especially when dealing with a large number of elements. If memory usage is a concern and you don't need the key-value mapping, lists are more efficient.\n",
        "\n",
        "### 6.Simplicity:\n",
        " For simpler data structures where you don't need the complexity of key-value pairs, lists are easier to use and understand.\n",
        "\n",
        "Here's a quick example to illustrate:\n",
        "\n",
        "```\n",
        "# Using a list to store a sequence of numbers\n",
        "numbers = [1, 2, 3, 4, 5]\n",
        "\n",
        "# Accessing elements by index\n",
        "print(numbers[2])  # Output: 3\n",
        "\n",
        "# Iterating through the list\n",
        "for number in numbers:\n",
        "    print(number)\n",
        "\n",
        "```\n",
        "In contrast, dictionaries are preferred when you need to associate unique keys with values, allowing for fast lookups, updates, and deletions based on keys. Each data structure has its own use cases, so choosing the right one depends on the specific requirements of your task.\n",
        "\n",
        "\n"
      ],
      "metadata": {
        "id": "T4KtLqTGAVnE"
      }
    },
    {
      "cell_type": "markdown",
      "source": [
        "## Q19.Why are dictionaries considered unordered, and how does that affect data retrieval.\n",
        "Dictionaries in Python are considered unordered collections because they store key-value pairs without maintaining any specific order of the keys. This means that the order in which you insert items into a dictionary is not necessarily the order in which they will be retrieved or iterated over.\n",
        "\n",
        "## How This Affects Data Retrieval:\n",
        "\n",
        "### **1.Insertion Order Not Guaranteed (Pre-Python 3.7):**\n",
        "\n",
        "Before Python 3.7, dictionaries did not maintain the order of items. This means that if you inserted items in a certain sequence, you could not rely on them being in the same order when you retrieved or iterated over them.\n",
        "\n",
        "### **2.Insertion Order Preserved (Python 3.7 and Later):**\n",
        "\n",
        "Starting from Python 3.7, dictionaries maintain the insertion order as an implementation detail. This means that items will be retrieved in the order they were added. However, it's important to note that this is a feature of the implementation and not a guarantee of the language specification until Python 3.8, where it became part of the language specification.\n",
        "\n",
        "### **3.Efficient Data Retrieval:**\n",
        "\n",
        "Despite being unordered, dictionaries provide efficient data retrieval. They use a hash table under the hood, which allows for average-case constant time complexity, $$O(1)$$, for lookups, insertions, and deletions. This efficiency is one of the key reasons dictionaries are widely used in Python.\n",
        "##Practical Implications:\n",
        "* Iteration:\n",
        "\n",
        "When iterating over a dictionary, the order of items will be the same as the insertion order (in Python 3.7+). However, if you need a specific order, such as sorted by keys or values, you will need to explicitly sort the dictionary.\n",
        "\n",
        "* Data Integrity:\n",
        "\n",
        "If your application relies on the order of items, you should be aware of the version of Python you are using. For versions before 3.7, consider using collections.OrderedDict to maintain order.\n",
        "\n",
        "* Hash Collisions:\n",
        "\n",
        "Although rare, hash collisions can occur, which might affect the performance of dictionary operations. Python handles these collisions internally, but it's good to be aware of this aspect.\n",
        "\n",
        "In summary, while dictionaries are technically unordered collections, starting from Python 3.7, they maintain insertion order, which can be beneficial for certain applications. Their efficient data retrieval capabilities make them a powerful tool in Python programming."
      ],
      "metadata": {
        "id": "1ocmOxD1DHgB"
      }
    },
    {
      "cell_type": "markdown",
      "source": [
        "## Q20. Explain the difference between a list and a dictionary in terms of data retrieval.\n",
        "###difference between a list and a dictionary in terms of data retrieval :\n",
        "##Lists\n",
        "* Structure: A list is an ordered collection of items. Each item in a list has a specific position or index.\n",
        "* Data Retrieval: You retrieve data from a list using its index. The indices start from 0 for the first element.\n",
        "* Example :\n",
        "\n",
        "```\n",
        "my_list = ['apple', 'banana', 'cherry']\n",
        "print(my_list[1])                       # Output: banana\n",
        "\n",
        "```\n",
        "Use Case: Lists are ideal when you need to maintain the order of items and access elements by their position.\n",
        "## Dictionaries\n",
        "* Structure: A dictionary is an unordered collection of key-value pairs. Each key is unique and is used to retrieve the corresponding value.\n",
        "\n",
        "* Data Retrieval: You retrieve data from a dictionary using its key.\n",
        "Example:\n",
        "\n",
        "\n",
        "```\n",
        "my_dict = {'name': 'Alice', 'age': 25, 'city': 'Jabalpur'}\n",
        "print(my_dict['age'])  # Output: 25\n",
        "\n",
        "```\n",
        "* Use Case: Dictionaries are perfect when you need a logical association between a key and a value, and quick lookups by key.\n",
        "\n",
        "## Key Differences\n",
        "* Order:\n",
        " Lists maintain the order of elements, while dictionaries do not (though as of Python 3.7, dictionaries maintain insertion order).\n",
        "* Access Method:\n",
        " Lists use indices to access elements, whereas dictionaries use keys.\n",
        "* Performance:\n",
        " Retrieving an element by index in a list is generally faster than retrieving a value by key in a dictionary, but dictionaries provide faster lookups for large datasets due to their hash table implementation.\n",
        "\n",
        "\n",
        "\n"
      ],
      "metadata": {
        "id": "GNM3VvxsGzs5"
      }
    },
    {
      "cell_type": "markdown",
      "source": [
        "#<<< DATA STRUCTURE PRACTICAL QUESTIONS"
      ],
      "metadata": {
        "id": "hI0v7iXlJjeF"
      }
    },
    {
      "cell_type": "markdown",
      "source": [
        "## Q1. Write a code to create a string with your name and print.\n",
        "\n"
      ],
      "metadata": {
        "id": "a1cR_RxoKauJ"
      }
    },
    {
      "cell_type": "code",
      "source": [
        "# Creating a string with the name\n",
        "name = \"Sakshi\"\n",
        "\n",
        "# Printing the string\n",
        "print(name)\n"
      ],
      "metadata": {
        "colab": {
          "base_uri": "https://localhost:8080/"
        },
        "id": "ne77tLE-LFZY",
        "outputId": "7a9ce7f4-934d-415a-fb30-97ceb0498331"
      },
      "execution_count": 1,
      "outputs": [
        {
          "output_type": "stream",
          "name": "stdout",
          "text": [
            "Sakshi\n"
          ]
        }
      ]
    },
    {
      "cell_type": "markdown",
      "source": [
        "## Q2.Write a code to find the length of the string \"Hello World\"."
      ],
      "metadata": {
        "id": "Ou9_MxkNLRVW"
      }
    },
    {
      "cell_type": "code",
      "source": [
        "# Define the string\n",
        "my_string = \"Hello world\"\n",
        "\n",
        "# Find the length of the string\n",
        "length_of_string = len(my_string)\n",
        "\n",
        "# Print the length\n",
        "print(\"The length of the string 'Hello world' is:\", length_of_string)\n"
      ],
      "metadata": {
        "colab": {
          "base_uri": "https://localhost:8080/"
        },
        "id": "CJfsLz9MMNKR",
        "outputId": "a8c45d4b-f14d-47f8-b315-b32b22832453"
      },
      "execution_count": 6,
      "outputs": [
        {
          "output_type": "stream",
          "name": "stdout",
          "text": [
            "The length of the string 'Hello world' is: 11\n"
          ]
        }
      ]
    },
    {
      "cell_type": "markdown",
      "source": [
        "## Q3.Write a code to slice the first 3 characters from the string \"Python Programming\"."
      ],
      "metadata": {
        "id": "pOG5swOjMxCZ"
      }
    },
    {
      "cell_type": "code",
      "source": [
        "# Original string\n",
        "original_string = \"Python Programming\"\n",
        "\n",
        "# Slicing the first 3 characters\n",
        "sliced_string = original_string[:3]\n",
        "\n",
        "# Printing the result\n",
        "print(sliced_string)\n"
      ],
      "metadata": {
        "colab": {
          "base_uri": "https://localhost:8080/"
        },
        "id": "CDdcezFVNEKK",
        "outputId": "82b278df-4a10-4f63-8859-3bf29c3946cd"
      },
      "execution_count": 9,
      "outputs": [
        {
          "output_type": "stream",
          "name": "stdout",
          "text": [
            "Pyt\n"
          ]
        }
      ]
    },
    {
      "cell_type": "markdown",
      "source": [
        "## Q4. Write a code to convert the string \"hello\" to uppercase."
      ],
      "metadata": {
        "id": "ZsFUXo3nNg44"
      }
    },
    {
      "cell_type": "code",
      "source": [
        "# Define the string\n",
        "original_string = \"hello\"\n",
        "\n",
        "# Convert to uppercase\n",
        "uppercase_string = original_string.upper()\n",
        "\n",
        "# Print the result\n",
        "print(uppercase_string)\n"
      ],
      "metadata": {
        "colab": {
          "base_uri": "https://localhost:8080/"
        },
        "id": "8fyo6huwN76s",
        "outputId": "58d92879-08bb-4381-d5e6-672d3aeac9f9"
      },
      "execution_count": 10,
      "outputs": [
        {
          "output_type": "stream",
          "name": "stdout",
          "text": [
            "HELLO\n"
          ]
        }
      ]
    },
    {
      "cell_type": "markdown",
      "source": [
        "## Q5.Write a code to replace the word \"apple\" with \"orange\" in the string \"I like apple\"."
      ],
      "metadata": {
        "id": "dk6NbeqeOMIo"
      }
    },
    {
      "cell_type": "code",
      "source": [
        "# Original string\n",
        "original_string = \"I like apple\"\n",
        "\n",
        "# Replace 'apple' with 'orange'\n",
        "modified_string = original_string.replace(\"apple\", \"orange\")\n",
        "\n",
        "# Print the modified string\n",
        "print(modified_string)\n"
      ],
      "metadata": {
        "colab": {
          "base_uri": "https://localhost:8080/"
        },
        "id": "riY9qprGPZOy",
        "outputId": "11be5c8d-d30e-4f28-8137-1073ea169216"
      },
      "execution_count": 11,
      "outputs": [
        {
          "output_type": "stream",
          "name": "stdout",
          "text": [
            "I like orange\n"
          ]
        }
      ]
    },
    {
      "cell_type": "markdown",
      "source": [
        "## Q6. Write a code to create a list with numbers 1 to 5 and print it."
      ],
      "metadata": {
        "id": "3tRlek3EPxL8"
      }
    },
    {
      "cell_type": "code",
      "source": [
        "# Creating a list with numbers from 1 to 5\n",
        "numbers = [1, 2, 3, 4, 5]\n",
        "\n",
        "# Printing the list\n",
        "print(numbers)\n"
      ],
      "metadata": {
        "colab": {
          "base_uri": "https://localhost:8080/"
        },
        "id": "HF0cehFxQRF3",
        "outputId": "dbf20678-256d-44ec-870a-879a88dbaa86"
      },
      "execution_count": 44,
      "outputs": [
        {
          "output_type": "stream",
          "name": "stdout",
          "text": [
            "[1, 2, 3, 4, 5]\n"
          ]
        }
      ]
    },
    {
      "cell_type": "markdown",
      "source": [
        "## Q7.Write a code to append the number 10 to the list [1, 2, 3, 4]."
      ],
      "metadata": {
        "id": "8N61tac_QaDD"
      }
    },
    {
      "cell_type": "code",
      "source": [
        "# Using append()\n",
        "my_list = [1, 2, 3, 4, 5]\n",
        "my_list.append(10)\n",
        "print(my_list)\n"
      ],
      "metadata": {
        "colab": {
          "base_uri": "https://localhost:8080/"
        },
        "id": "33n1UH3uQnoR",
        "outputId": "8fea3acc-da25-4ccf-881d-f794a4bf82f9"
      },
      "execution_count": 45,
      "outputs": [
        {
          "output_type": "stream",
          "name": "stdout",
          "text": [
            "[1, 2, 3, 4, 5, 10]\n"
          ]
        }
      ]
    },
    {
      "cell_type": "markdown",
      "source": [
        "## Q8. Write a code to remove the number 3 from the list [1, 2, 3, 4, 5]"
      ],
      "metadata": {
        "id": "GGOhkkwTRCHj"
      }
    },
    {
      "cell_type": "code",
      "source": [
        "my_list = [1, 2, 3, 4, 3, 5]\n",
        "if 3 in my_list:\n",
        "    my_list.remove(3)\n",
        "print(my_list)\n"
      ],
      "metadata": {
        "colab": {
          "base_uri": "https://localhost:8080/"
        },
        "id": "XMAu3OoJRTaz",
        "outputId": "ecbb6918-7134-4caa-d2a2-d7b68b45c28b"
      },
      "execution_count": 14,
      "outputs": [
        {
          "output_type": "stream",
          "name": "stdout",
          "text": [
            "[1, 2, 4, 3, 5]\n"
          ]
        }
      ]
    },
    {
      "cell_type": "markdown",
      "source": [
        "## Q9.Write a code to access the second element in the list ['a', 'b', 'c', 'd']"
      ],
      "metadata": {
        "id": "AjDGc9OlRr49"
      }
    },
    {
      "cell_type": "code",
      "source": [
        "my_list = ['a','b','c','d']\n",
        "second_element = my_list[1]\n",
        "print(second_element)"
      ],
      "metadata": {
        "colab": {
          "base_uri": "https://localhost:8080/"
        },
        "id": "B4SafAsmSUJx",
        "outputId": "a4d274bb-48b7-4280-86ee-ec747cdf418f"
      },
      "execution_count": 16,
      "outputs": [
        {
          "output_type": "stream",
          "name": "stdout",
          "text": [
            "b\n"
          ]
        }
      ]
    },
    {
      "cell_type": "markdown",
      "source": [
        "## Q10.Write a code to reverse the list [10, 20, 30, 40, 50]."
      ],
      "metadata": {
        "id": "axOBFA1yTCBl"
      }
    },
    {
      "cell_type": "code",
      "source": [
        "my_list = [10, 20, 30, 40, 50]\n",
        "my_list.reverse()\n",
        "print(my_list)\n"
      ],
      "metadata": {
        "colab": {
          "base_uri": "https://localhost:8080/"
        },
        "id": "vbXIs41rTJdb",
        "outputId": "c6341bcb-9576-4218-dc29-e999d8a8c9a9"
      },
      "execution_count": 17,
      "outputs": [
        {
          "output_type": "stream",
          "name": "stdout",
          "text": [
            "[50, 40, 30, 20, 10]\n"
          ]
        }
      ]
    },
    {
      "cell_type": "markdown",
      "source": [
        "## Q11. Write a code to create a tuple with the elements 100, 200, 300 and print it."
      ],
      "metadata": {
        "id": "iV9fvnloTjLa"
      }
    },
    {
      "cell_type": "code",
      "source": [
        "# Creating a tuple with elements 100, 200, and 300\n",
        "my_tuple = (100, 200, 300)\n",
        "\n",
        "# Printing the tuple\n",
        "print(my_tuple)\n"
      ],
      "metadata": {
        "colab": {
          "base_uri": "https://localhost:8080/"
        },
        "id": "g_w5jAxBU8cT",
        "outputId": "899d84b3-af35-4591-e4fc-f2a89967db65"
      },
      "execution_count": 18,
      "outputs": [
        {
          "output_type": "stream",
          "name": "stdout",
          "text": [
            "(100, 200, 300)\n"
          ]
        }
      ]
    },
    {
      "cell_type": "markdown",
      "source": [
        "## Q12.Write a code to access the second-to-last element of the tuple ('red', 'green', 'blue', 'yellow')"
      ],
      "metadata": {
        "id": "08Op_LDfVMhI"
      }
    },
    {
      "cell_type": "code",
      "source": [
        "# Define the tuple\n",
        "colors = ('red', 'green', 'blue', 'yellow')\n",
        "\n",
        "# Access the second to last element\n",
        "second_to_last = colors[-2]\n",
        "\n",
        "# Print the result\n",
        "print(second_to_last)\n"
      ],
      "metadata": {
        "colab": {
          "base_uri": "https://localhost:8080/"
        },
        "id": "-bCW3nXEVV5N",
        "outputId": "a4b0aff2-2846-437a-ec9f-800ee5dee6de"
      },
      "execution_count": 19,
      "outputs": [
        {
          "output_type": "stream",
          "name": "stdout",
          "text": [
            "blue\n"
          ]
        }
      ]
    },
    {
      "cell_type": "markdown",
      "source": [
        "## Q13. Write a code to find the minimum number in the tuple (10, 20, 5, 15)."
      ],
      "metadata": {
        "id": "Bww_2xuQV-_V"
      }
    },
    {
      "cell_type": "code",
      "source": [
        "# Define the tuple\n",
        "numbers = (10, 20, 5, 15)\n",
        "\n",
        "# Find the minimum number\n",
        "min_number = min(numbers)\n",
        "\n",
        "# Print the result\n",
        "print(\"The minimum number in the tuple is:\", min_number)\n"
      ],
      "metadata": {
        "colab": {
          "base_uri": "https://localhost:8080/"
        },
        "id": "ZAptYfdZWaHE",
        "outputId": "ab76f66a-cda2-4417-a9a0-37b31cdd4c65"
      },
      "execution_count": 20,
      "outputs": [
        {
          "output_type": "stream",
          "name": "stdout",
          "text": [
            "The minimum number in the tuple is: 5\n"
          ]
        }
      ]
    },
    {
      "cell_type": "markdown",
      "source": [
        "## Q14.  Write a code to find the index of the element \"cat\" in the tuple ('dog', 'cat', 'rabbit').\n",
        "\n"
      ],
      "metadata": {
        "id": "olV4MstiWu15"
      }
    },
    {
      "cell_type": "code",
      "source": [
        "# Define the tuple\n",
        "animals = (\"dog\", \"cat\", \"rabbit\")\n",
        "\n",
        "# Find the index of the element \"cat\"\n",
        "index_of_cat = animals.index(\"cat\")\n",
        "\n",
        "# Print the index\n",
        "print(\"The index of 'cat' is:\", index_of_cat)\n"
      ],
      "metadata": {
        "colab": {
          "base_uri": "https://localhost:8080/"
        },
        "id": "B_Y-peoxYV_E",
        "outputId": "5d81bb6d-e34f-49b1-ff16-3c0812ee51bf"
      },
      "execution_count": 21,
      "outputs": [
        {
          "output_type": "stream",
          "name": "stdout",
          "text": [
            "The index of 'cat' is: 1\n"
          ]
        }
      ]
    },
    {
      "cell_type": "markdown",
      "source": [
        "## Q15. Write a code to create a tuple containing three different fruits and check if \"kiwi\" is in it."
      ],
      "metadata": {
        "id": "z0ptDMk6YbXo"
      }
    },
    {
      "cell_type": "code",
      "source": [
        "# Create a tuple with three different fruits\n",
        "fruits = (\"apple\", \"banana\", \"cherry\")\n",
        "\n",
        "# Check if \"kiwi\" is in the tuple\n",
        "if \"kiwi\" in fruits:\n",
        "    print(\"Kiwi is in the tuple.\")\n",
        "else:\n",
        "    print(\"Kiwi is not in the tuple.\")\n"
      ],
      "metadata": {
        "colab": {
          "base_uri": "https://localhost:8080/"
        },
        "id": "cBphXrs0YrAe",
        "outputId": "da4b8fa3-1213-400b-dea8-3be410e9a7ed"
      },
      "execution_count": 22,
      "outputs": [
        {
          "output_type": "stream",
          "name": "stdout",
          "text": [
            "Kiwi is not in the tuple.\n"
          ]
        }
      ]
    },
    {
      "cell_type": "markdown",
      "source": [
        "## Q16. Write a code to create a set with the elements 'a', 'b', 'c' and print it."
      ],
      "metadata": {
        "id": "AhbRVXnzZDBN"
      }
    },
    {
      "cell_type": "code",
      "source": [
        "# Creating a set with elements 'a', 'b', and 'c'\n",
        "my_set = {'a', 'b', 'c'}\n",
        "\n",
        "# Printing the set\n",
        "print(my_set)\n"
      ],
      "metadata": {
        "colab": {
          "base_uri": "https://localhost:8080/"
        },
        "id": "TXWtwVkkZPZ4",
        "outputId": "45b6c925-0e2b-4c76-db1c-feedc5eaac6f"
      },
      "execution_count": 23,
      "outputs": [
        {
          "output_type": "stream",
          "name": "stdout",
          "text": [
            "{'a', 'c', 'b'}\n"
          ]
        }
      ]
    },
    {
      "cell_type": "markdown",
      "source": [
        "## Q17.Write a code to clear all elements from the set {1, 2, 3, 4, 5}."
      ],
      "metadata": {
        "id": "k9YDXNWDZc4W"
      }
    },
    {
      "cell_type": "code",
      "source": [
        "my_set = {1, 2, 3, 4, 5}\n",
        "my_set.clear()\n",
        "print(my_set)  # Output: set()\n"
      ],
      "metadata": {
        "colab": {
          "base_uri": "https://localhost:8080/"
        },
        "id": "ggPJtegqZokI",
        "outputId": "62beb67e-7c4f-4dce-f8af-d47e7eb04479"
      },
      "execution_count": 24,
      "outputs": [
        {
          "output_type": "stream",
          "name": "stdout",
          "text": [
            "set()\n"
          ]
        }
      ]
    },
    {
      "cell_type": "markdown",
      "source": [
        "## Q18. Write a code to remove the element 4 from the set {1, 2, 3, 4}.\n",
        "\n"
      ],
      "metadata": {
        "id": "_nfMOQ5HZ1B6"
      }
    },
    {
      "cell_type": "code",
      "source": [
        "# Define the set\n",
        "my_set = {1, 2, 3, 4}\n",
        "\n",
        "# Remove the element 4\n",
        "my_set.remove(4)\n",
        "\n",
        "# Print the updated set\n",
        "print(my_set)\n"
      ],
      "metadata": {
        "colab": {
          "base_uri": "https://localhost:8080/"
        },
        "id": "QBVlMyxwaPAg",
        "outputId": "707652d2-a9d2-49bf-8d78-70f750d030e5"
      },
      "execution_count": 27,
      "outputs": [
        {
          "output_type": "stream",
          "name": "stdout",
          "text": [
            "{1, 2, 3}\n"
          ]
        }
      ]
    },
    {
      "cell_type": "markdown",
      "source": [
        "## Q19. Write a code to find the union of two sets {1, 2, 3} and {3, 4, 5}."
      ],
      "metadata": {
        "id": "Y4GtjyEnaX6z"
      }
    },
    {
      "cell_type": "code",
      "source": [
        "# Define the sets\n",
        "set1 = {1, 2, 3}\n",
        "set2 = {3, 4, 5}\n",
        "\n",
        "# Find the union of the sets\n",
        "union_set = set1.union(set2)\n",
        "\n",
        "# Print the result\n",
        "print(\"Union of set1 and set2:\", union_set)\n"
      ],
      "metadata": {
        "colab": {
          "base_uri": "https://localhost:8080/"
        },
        "id": "39AJ8t0zbJF-",
        "outputId": "6a599a3c-9e5f-4255-ae00-50509365b4df"
      },
      "execution_count": 28,
      "outputs": [
        {
          "output_type": "stream",
          "name": "stdout",
          "text": [
            "Union of set1 and set2: {1, 2, 3, 4, 5}\n"
          ]
        }
      ]
    },
    {
      "cell_type": "markdown",
      "source": [
        "## Q20. Write a code to find the intersection of two sets {1, 2, 3} and {2, 3, 4}."
      ],
      "metadata": {
        "id": "8kCXBDYIbiVn"
      }
    },
    {
      "cell_type": "code",
      "source": [
        "# Define the sets\n",
        "set1 = {1, 2, 3}\n",
        "set2 = {2, 3, 4}\n",
        "\n",
        "# Find the intersection\n",
        "intersection = set1.intersection(set2)\n",
        "\n",
        "# Print the result\n",
        "print(\"The intersection of the sets is:\", intersection)\n"
      ],
      "metadata": {
        "colab": {
          "base_uri": "https://localhost:8080/"
        },
        "id": "L09uqA2ub6I0",
        "outputId": "82a974f1-109c-4dff-f1ac-cad075a152a7"
      },
      "execution_count": 29,
      "outputs": [
        {
          "output_type": "stream",
          "name": "stdout",
          "text": [
            "The intersection of the sets is: {2, 3}\n"
          ]
        }
      ]
    },
    {
      "cell_type": "markdown",
      "source": [
        "## Q21.Write a code to create a dictionary with the keys \"name\", \"age\", and \"city\", and print it."
      ],
      "metadata": {
        "id": "d0MOOEWtb8ow"
      }
    },
    {
      "cell_type": "code",
      "source": [
        "# Creating the dictionary\n",
        "person_info = {\n",
        "    \"name\": \"Sakshi\",\n",
        "    \"age\": 23,\n",
        "    \"city\": \"Jabalpur\"\n",
        "}\n",
        "\n",
        "# Printing the dictionary\n",
        "print(person_info)\n"
      ],
      "metadata": {
        "colab": {
          "base_uri": "https://localhost:8080/"
        },
        "id": "Mm10L3r2cK0o",
        "outputId": "d8da3d1f-40e4-48e8-daff-f79c858d6ac3"
      },
      "execution_count": 30,
      "outputs": [
        {
          "output_type": "stream",
          "name": "stdout",
          "text": [
            "{'name': 'Sakshi', 'age': 23, 'city': 'Jabalpur'}\n"
          ]
        }
      ]
    },
    {
      "cell_type": "markdown",
      "source": [
        "## Q22. Write a code to add a new key-value pair \"country\": \"USA\" to the dictionary {'name': 'John', 'age': 25}."
      ],
      "metadata": {
        "id": "u2Psn1VOcoce"
      }
    },
    {
      "cell_type": "code",
      "source": [
        "# Existing dictionary\n",
        "person = {\n",
        "    \"name\": \"John\",\n",
        "    \"age\": 25\n",
        "}\n",
        "\n",
        "# Adding a new key-value pair\n",
        "person[\"country\"] = \"USA\"\n",
        "\n",
        "# Printing the updated dictionary\n",
        "print(person)\n"
      ],
      "metadata": {
        "colab": {
          "base_uri": "https://localhost:8080/"
        },
        "id": "rJnVm_TpdkHv",
        "outputId": "83db8ce5-1710-4510-ec0c-d450fc895389"
      },
      "execution_count": 31,
      "outputs": [
        {
          "output_type": "stream",
          "name": "stdout",
          "text": [
            "{'name': 'John', 'age': 25, 'country': 'USA'}\n"
          ]
        }
      ]
    },
    {
      "cell_type": "markdown",
      "source": [],
      "metadata": {
        "id": "NITksHVJWZrj"
      }
    },
    {
      "cell_type": "markdown",
      "source": [
        "## Q23. Write a code to access the value associated with the key \"name\" in the dictionary {'name': 'Alice', 'age': 30}."
      ],
      "metadata": {
        "id": "OaeaEXu4dqV2"
      }
    },
    {
      "cell_type": "code",
      "source": [
        "# Define the dictionary\n",
        "person = {\n",
        "    \"name\": \"Alice\",\n",
        "    \"age\": 30\n",
        "}\n",
        "\n",
        "# Access the value associated with the key \"name\"\n",
        "name_value = person[\"name\"]\n",
        "\n",
        "# Print the value\n",
        "print(name_value)\n"
      ],
      "metadata": {
        "colab": {
          "base_uri": "https://localhost:8080/"
        },
        "id": "BkdEfHmfd_R0",
        "outputId": "353fef02-0479-41df-8d3d-7364e282e7d7"
      },
      "execution_count": 32,
      "outputs": [
        {
          "output_type": "stream",
          "name": "stdout",
          "text": [
            "Alice\n"
          ]
        }
      ]
    },
    {
      "cell_type": "markdown",
      "source": [
        "## Q24.Write a code to remove the key \"age\" from the dictionary {'name': 'Bob', 'age': 22, 'city': 'New York'}."
      ],
      "metadata": {
        "id": "tPolumXreOc_"
      }
    },
    {
      "cell_type": "code",
      "source": [
        "# Define the dictionary\n",
        "bob = {\n",
        "    \"name\": \"bob\",\n",
        "    \"age\": 22,\n",
        "    \"city\": \"new york\"\n",
        "}\n",
        "\n",
        "# Remove the key 'age'\n",
        "if 'age' in bob:\n",
        "    del bob['age']\n",
        "\n",
        "# Print the updated dictionary\n",
        "print(bob)\n"
      ],
      "metadata": {
        "colab": {
          "base_uri": "https://localhost:8080/"
        },
        "id": "n8_WeHi-ejRl",
        "outputId": "6b3322ae-628e-4ed1-bdea-b54cc10bbb4c"
      },
      "execution_count": 33,
      "outputs": [
        {
          "output_type": "stream",
          "name": "stdout",
          "text": [
            "{'name': 'bob', 'city': 'new york'}\n"
          ]
        }
      ]
    },
    {
      "cell_type": "markdown",
      "source": [
        "## Q25. Write a code to check if the key \"city\" exists in the dictionary {'name': 'Alice', 'city': 'Paris'}."
      ],
      "metadata": {
        "id": "x2l-04Aee8PJ"
      }
    },
    {
      "cell_type": "code",
      "source": [
        "# Define the dictionary\n",
        "alice_city = {\n",
        "    \"name\": \"Alice\",\n",
        "    \"city\": \"Paris\"\n",
        "}\n",
        "\n",
        "# Check if the key 'city' exists in the dictionary\n",
        "if \"city\" in alice_city:\n",
        "    print(\"The key 'city' exists in the dictionary.\")\n",
        "else:\n",
        "    print(\"The key 'city' does not exist in the dictionary.\")\n"
      ],
      "metadata": {
        "colab": {
          "base_uri": "https://localhost:8080/"
        },
        "id": "GwIQXpoIfLF_",
        "outputId": "a34a228e-0f48-4ea1-b54f-420f803c2177"
      },
      "execution_count": 34,
      "outputs": [
        {
          "output_type": "stream",
          "name": "stdout",
          "text": [
            "The key 'city' exists in the dictionary.\n"
          ]
        }
      ]
    },
    {
      "cell_type": "markdown",
      "source": [
        "## Q26.Write a code to create a list, a tuple, and a dictionary, and print them all."
      ],
      "metadata": {
        "id": "nTJitQJPfvT4"
      }
    },
    {
      "cell_type": "code",
      "source": [
        "# Creating a list\n",
        "my_list = [1, 2, 3, 4, 5]\n",
        "\n",
        "# Creating a tuple\n",
        "my_tuple = (10, 20, 30, 40, 50)\n",
        "\n",
        "# Creating a dictionary\n",
        "my_dict = {\n",
        "    'name': 'Alice',\n",
        "    'age': 30,\n",
        "    'city': 'Wonderland'\n",
        "}\n",
        "\n",
        "# Printing the list\n",
        "print(\"List:\", my_list)\n",
        "\n",
        "# Printing the tuple\n",
        "print(\"Tuple:\", my_tuple)\n",
        "\n",
        "# Printing the dictionary\n",
        "print(\"Dictionary:\", my_dict)\n"
      ],
      "metadata": {
        "colab": {
          "base_uri": "https://localhost:8080/"
        },
        "id": "1gPZnIIff9uu",
        "outputId": "d1c5e5c1-d66e-4f05-81fe-9a8ce7c2eea0"
      },
      "execution_count": 35,
      "outputs": [
        {
          "output_type": "stream",
          "name": "stdout",
          "text": [
            "List: [1, 2, 3, 4, 5]\n",
            "Tuple: (10, 20, 30, 40, 50)\n",
            "Dictionary: {'name': 'Alice', 'age': 30, 'city': 'Wonderland'}\n"
          ]
        }
      ]
    },
    {
      "cell_type": "markdown",
      "source": [
        "## Q27.Write a code to create a list of 5 random numbers between 1 and 100, sort it in ascending order, and print the result.(replaced)"
      ],
      "metadata": {
        "id": "0dtZyztAgOSq"
      }
    },
    {
      "cell_type": "code",
      "source": [
        "import random\n",
        "\n",
        "# Generate a list of 5 random numbers between 1 and 100\n",
        "random_numbers = [random.randint(1, 100) for _ in range(5)]\n",
        "\n",
        "# Sort the list in ascending order\n",
        "sorted_numbers = sorted(random_numbers)\n",
        "\n",
        "# Print the sorted list\n",
        "print(\"Sorted list:\", sorted_numbers)\n"
      ],
      "metadata": {
        "colab": {
          "base_uri": "https://localhost:8080/"
        },
        "id": "VDOE72mFg6PZ",
        "outputId": "d434e3be-fd9a-4eb2-ccf4-72d08e27e593"
      },
      "execution_count": 39,
      "outputs": [
        {
          "output_type": "stream",
          "name": "stdout",
          "text": [
            "Sorted list: [36, 36, 39, 77, 95]\n"
          ]
        }
      ]
    },
    {
      "cell_type": "markdown",
      "source": [
        "## Q28. Write a code to create a list with strings and print the element at the third index."
      ],
      "metadata": {
        "id": "xWtkZNtbh0CG"
      }
    },
    {
      "cell_type": "code",
      "source": [
        "# Create a list with strings\n",
        "my_list = [\"apple\", \"banana\", \"cherry\", \"date\", \"elderberry\"]\n",
        "\n",
        "# Print the element at the third index\n",
        "print(my_list[3])\n"
      ],
      "metadata": {
        "colab": {
          "base_uri": "https://localhost:8080/"
        },
        "id": "jOdjN0MwiP9w",
        "outputId": "4c0ab3bb-11d2-4d20-a2d6-60d64d8947a6"
      },
      "execution_count": 40,
      "outputs": [
        {
          "output_type": "stream",
          "name": "stdout",
          "text": [
            "date\n"
          ]
        }
      ]
    },
    {
      "cell_type": "markdown",
      "source": [
        "## Q29.Write a code to combine two dictionaries into one and print the result."
      ],
      "metadata": {
        "id": "UNFL3z7ziUDM"
      }
    },
    {
      "cell_type": "code",
      "source": [
        "# Define two dictionaries\n",
        "dict1 = {'a': 1, 'b': 2, 'c': 3}\n",
        "dict2 = {'d': 4, 'e': 5, 'f': 6}\n",
        "\n",
        "# Combine the dictionaries\n",
        "combined_dict = {**dict1, **dict2}\n",
        "\n",
        "# Print the result\n",
        "print(\"Combined Dictionary:\", combined_dict)"
      ],
      "metadata": {
        "colab": {
          "base_uri": "https://localhost:8080/"
        },
        "id": "vgGhXFSSictL",
        "outputId": "a9a96675-58ab-4c26-c63a-67359e4d703a"
      },
      "execution_count": 43,
      "outputs": [
        {
          "output_type": "stream",
          "name": "stdout",
          "text": [
            "Combined Dictionary: {'a': 1, 'b': 2, 'c': 3, 'd': 4, 'e': 5, 'f': 6}\n"
          ]
        }
      ]
    },
    {
      "cell_type": "markdown",
      "source": [
        "## Q30.Write a code to convert a list of strings into a set."
      ],
      "metadata": {
        "id": "XsBEyGUzi-3Z"
      }
    },
    {
      "cell_type": "code",
      "source": [
        "# Sample list of strings\n",
        "string_list = [\"apple\", \"banana\", \"cherry\", \"apple\", \"banana\"]\n",
        "\n",
        "# Convert the list to a set\n",
        "string_set = set(string_list)\n",
        "\n",
        "# Print the resulting set\n",
        "print(string_set)\n",
        "\n"
      ],
      "metadata": {
        "colab": {
          "base_uri": "https://localhost:8080/"
        },
        "id": "jKtE0GjajIrW",
        "outputId": "32916429-f5ce-4394-cd3e-b207b29d281e"
      },
      "execution_count": 42,
      "outputs": [
        {
          "output_type": "stream",
          "name": "stdout",
          "text": [
            "{'banana', 'apple', 'cherry'}\n"
          ]
        }
      ]
    }
  ]
}